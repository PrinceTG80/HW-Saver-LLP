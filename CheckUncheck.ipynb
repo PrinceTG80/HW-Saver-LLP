{
  "nbformat": 4,
  "nbformat_minor": 0,
  "metadata": {
    "colab": {
      "name": "CheckUncheck.ipynb",
      "provenance": []
    },
    "kernelspec": {
      "name": "python3",
      "display_name": "Python 3"
    },
    "language_info": {
      "name": "python"
    }
  },
  "cells": [
    {
      "cell_type": "markdown",
      "source": [
        "## Name: Tushar Gavkhare\n",
        "## Colab link:\n",
        "https://colab.research.google.com/drive/1uZOAxD2osNlOkWQPnVCz4-16Nr2eZ8yX?usp=sharing\n",
        "\n",
        "The raw images are first cropped then added manually to checked or unchecked and then used Logistic Regression to create model for prediction.\n"
      ],
      "metadata": {
        "id": "IdlJxxv3DWqn"
      }
    },
    {
      "cell_type": "code",
      "source": [
        "import zipfile\n",
        " \n",
        "#Open the zip file in read mode\n",
        "my_zipfile = zipfile.ZipFile(\"/content/Files.zip\", mode='r')\n",
        " \n",
        "print('Extracting all file...')\n",
        " \n",
        "my_zipfile.extractall()\n",
        " \n",
        "print('Extracting Done!')\n",
        "my_zipfile.close()"
      ],
      "metadata": {
        "colab": {
          "base_uri": "https://localhost:8080/"
        },
        "id": "ges2oPOTzwq4",
        "outputId": "8b85d50e-bc93-4dc9-e1d3-3e82cb61e952"
      },
      "execution_count": 1,
      "outputs": [
        {
          "output_type": "stream",
          "name": "stdout",
          "text": [
            "Extracting all file...\n",
            "Extracting Done!\n"
          ]
        }
      ]
    },
    {
      "cell_type": "code",
      "source": [
        "import PIL\n",
        "from PIL import Image\n",
        "for i in range(1,7):\n",
        "  path = '/content/Files/Raw_Dataset/img-'+str(i)+'.jpg'\n",
        "  img = PIL.Image.open(path)\n",
        "  print(img.size)"
      ],
      "metadata": {
        "colab": {
          "base_uri": "https://localhost:8080/"
        },
        "id": "9jAVY0z84pmK",
        "outputId": "523886c4-0671-4902-f65f-e6aefb423d96"
      },
      "execution_count": 35,
      "outputs": [
        {
          "output_type": "stream",
          "name": "stdout",
          "text": [
            "(129, 121)\n",
            "(51, 48)\n",
            "(54, 45)\n",
            "(54, 45)\n",
            "(54, 45)\n",
            "(130, 120)\n"
          ]
        }
      ]
    },
    {
      "cell_type": "code",
      "source": [
        "import shutil\n",
        "path = '/content/cropped'\n",
        "shutil.rmtree(path, ignore_errors=True)"
      ],
      "metadata": {
        "id": "YoWI942D0qgY"
      },
      "execution_count": 17,
      "outputs": []
    },
    {
      "cell_type": "code",
      "execution_count": 18,
      "metadata": {
        "id": "_giheboFzV6b"
      },
      "outputs": [],
      "source": [
        "#adding scanned quetion papers in croppped_que folder\n",
        "import cv2\n",
        "import os\n",
        "import numpy as np\n",
        "import PIL\n",
        "from PIL import Image\n",
        "os.mkdir('/content/cropped')\n",
        "def box_extraction(img_for_box_extraction_path, cropped_dir_path , id):\n",
        "  img = cv2.imread(img_for_box_extraction_path, 0)  # Read the image\n",
        "  (thresh, img_bin) = cv2.threshold(img, 128, 255,cv2.THRESH_BINARY | cv2.THRESH_OTSU)  # Thresholding the image\n",
        "  img_bin = 255-img_bin  # Invert the image\n",
        "  cv2.imwrite(\"Image_bin.jpg\",img_bin)\n",
        "   \n",
        "  # Defining a kernel length\n",
        "  kernel_length = np.array(img).shape[1]//30\n",
        "     \n",
        "  # A verticle kernel of (1 X kernel_length), which will detect all the verticle lines from the image.\n",
        "  verticle_kernel = cv2.getStructuringElement(cv2.MORPH_RECT, (1, kernel_length))\n",
        "  # A horizontal kernel of (kernel_length X 1), which will help to detect all the horizontal line from the image.\n",
        "  hori_kernel = cv2.getStructuringElement(cv2.MORPH_RECT, (kernel_length, 1))\n",
        "  # A kernel of (3 X 3) ones.\n",
        "  kernel = cv2.getStructuringElement(cv2.MORPH_RECT, (1, 1))\n",
        "# Morphological operation to detect verticle lines from an image\n",
        "  img_temp1 = cv2.erode(img_bin, verticle_kernel, iterations=3)\n",
        "  verticle_lines_img = cv2.dilate(img_temp1, verticle_kernel, iterations=3)\n",
        "  cv2.imwrite(\"verticle_lines.jpg\",verticle_lines_img)\n",
        "# Morphological operation to detect horizontal lines from an image\n",
        "  img_temp2 = cv2.erode(img_bin, hori_kernel, iterations=3)\n",
        "  horizontal_lines_img = cv2.dilate(img_temp2, hori_kernel, iterations=3)\n",
        "  cv2.imwrite(\"horizontal_lines.jpg\",horizontal_lines_img)\n",
        "# Weighting parameters, this will decide the quantity of an image to be added to make a new image.\n",
        "  alpha = 0.5\n",
        "  beta = 1.0 - alpha\n",
        "# This function helps to add two image with specific weight parameter to get a third image as summation of two image.\n",
        "  img_final_bin = cv2.addWeighted(verticle_lines_img, alpha, horizontal_lines_img, beta, 0.0)\n",
        "  img_final_bin = cv2.erode(~img_final_bin, kernel, iterations=2)\n",
        "  (thresh, img_final_bin) = cv2.threshold(img_final_bin, 128, 255, cv2.THRESH_BINARY | cv2.THRESH_OTSU)\n",
        "# For Debugging\n",
        "    # Enable this line to see verticle and horizontal lines in the image which is used to find boxes\n",
        "  cv2.imwrite(\"img_final_bin.jpg\",img_final_bin)\n",
        "    # Find contours for image, which will detect all the boxes\n",
        "  contours, _ = cv2.findContours(img_final_bin, cv2.RETR_TREE, cv2.CHAIN_APPROX_SIMPLE)\n",
        "    # Sort all the contours by top to bottom.\n",
        "  #(contours, boundingBoxes) = sort_contours(contours, method=\"top-to-bottom\")\n",
        "  idx = 0\n",
        "  Bigimg = PIL.Image.open(img_for_box_extraction_path)\n",
        "  W,H = Bigimg.size\n",
        "  for c in contours:\n",
        "    # Returns the location and width,height for every contour\n",
        "    x, y, w, h = cv2.boundingRect(c)\n",
        "    if(idx==0): \n",
        "      xprev=x\n",
        "    # print(\"rectangle \" + str(x) +\" \" + str(y) +\" \" + str(w) + \" \" + str(h) +\" \" + str(idx) + \"c\" + str(c))\n",
        "    # If the box height is greater then 20, widht is >80, then only save it as a box in \"cropped/\" folder.if (w > 65 and h > 50) and (w < 85 and h < 80): if ((w > 55 and h > 45) and (w < 85 and h < 80))\n",
        "    # if ((w > 200 and h > 250) and (w < 400 and h < 400)):\n",
        "      #print(\"rectangle \" + str(w) + \" \" + str(h) +\" \" + str(idx) + \"c\" + str(c))\n",
        "    if((w > W/2-10 and h > H/2-12) and (w < W/2 + 10 and h < H/2+10)):\n",
        "      idx += 1\n",
        "      new_img = img[y:y+h, x:x+w]\n",
        "      xprev = x\n",
        "      cv2.imwrite(cropped_dir_path + str(id) + str(idx) + '.jpg', new_img)\n",
        "      #encodeImage(cropped_dir_path + str(idx) + '.jpg',idx)"
      ]
    },
    {
      "cell_type": "code",
      "source": [
        "for t in range(1,10):\n",
        "  box_extraction(\"/content/Files/Raw_Dataset/img-\"+str(1)+\".jpg\", '/content/cropped/',1)\n",
        "  box_extraction(\"/content/Files/Raw_Dataset/img-\"+str(t)+\".jpg\", '/content/cropped/',t)"
      ],
      "metadata": {
        "id": "UKcQa5yB8Mzn"
      },
      "execution_count": 19,
      "outputs": []
    },
    {
      "cell_type": "code",
      "source": [
        "import shutil\n",
        "path = '/content/data'\n",
        "shutil.rmtree(path, ignore_errors=True)"
      ],
      "metadata": {
        "id": "x7hc3eKLAgXx"
      },
      "execution_count": 30,
      "outputs": []
    },
    {
      "cell_type": "code",
      "source": [
        "os.mkdir('data')\n",
        "os.mkdir('/content/data/checked')\n",
        "os.mkdir('/content/data/unchecked')\n",
        "checked = ['/content/cropped/11.jpg','/content/cropped/21.jpg', '/content/cropped/61.jpg']\n",
        "unchecked = ['/content/cropped/31.jpg', '/content/cropped/41.jpg' , '/content/cropped/51.jpg' , '/content/cropped/71.jpg' , '/content/cropped/81.jpg' , '/content/cropped/91.jpg']\n",
        "for i in checked:\n",
        "  img = cv2.imread(i, 0)\n",
        "  cv2.imwrite('/content/data/checked/' + i[17:],img)\n",
        "for i in unchecked:\n",
        "  img = cv2.imread(i, 0)\n",
        "  cv2.imwrite('/content/data/unchecked/' + i[17:],img)"
      ],
      "metadata": {
        "id": "c9KFxmHk1qbE"
      },
      "execution_count": 31,
      "outputs": []
    },
    {
      "cell_type": "code",
      "source": [
        "import pandas as pd\n",
        "import os\n",
        "from skimage.transform import resize\n",
        "from skimage.io import imread\n",
        "import numpy as np\n",
        "import matplotlib.pyplot as plt\n",
        "Categories=['checked','unchecked']\n",
        "flat_data_arr=[] #input array\n",
        "target_arr=[] #output array\n",
        "datadir='data' \n",
        "#path which contains all the categories of images\n",
        "for i in Categories:\n",
        "    print(f'loading... category : {i}')\n",
        "    path=os.path.join(datadir,i)\n",
        "    for img in os.listdir(path):\n",
        "        print(img)\n",
        "        img_array=imread(os.path.join(path,img))\n",
        "        img_resized=resize(img_array,(150,150,3))\n",
        "        flat_data_arr.append(img_resized.flatten())\n",
        "        target_arr.append(Categories.index(i))\n",
        "    print(f'loaded category:{i} successfully')\n",
        "flat_data=np.array(flat_data_arr)\n",
        "target=np.array(target_arr)\n",
        "df=pd.DataFrame(flat_data) #dataframe\n",
        "df['Target']=target\n",
        "x=df.iloc[:,:-1] #input data \n",
        "y=df.iloc[:,-1] #output data"
      ],
      "metadata": {
        "colab": {
          "base_uri": "https://localhost:8080/"
        },
        "id": "kD9sijzv4np9",
        "outputId": "bbbfe489-3440-4113-91f0-e90da8d5702a"
      },
      "execution_count": 32,
      "outputs": [
        {
          "output_type": "stream",
          "name": "stdout",
          "text": [
            "loading... category : checked\n",
            "61.jpg\n",
            "21.jpg\n",
            "11.jpg\n",
            "loaded category:checked successfully\n",
            "loading... category : unchecked\n",
            "71.jpg\n",
            "41.jpg\n",
            "81.jpg\n",
            "31.jpg\n",
            "91.jpg\n",
            "51.jpg\n",
            "loaded category:unchecked successfully\n"
          ]
        }
      ]
    },
    {
      "cell_type": "code",
      "source": [
        "from sklearn.tree import DecisionTreeRegressor,DecisionTreeClassifier\n",
        "model = DecisionTreeClassifier()"
      ],
      "metadata": {
        "id": "0QvNpses40Ks"
      },
      "execution_count": 41,
      "outputs": []
    },
    {
      "cell_type": "code",
      "source": [
        "model.fit(x,y)"
      ],
      "metadata": {
        "colab": {
          "base_uri": "https://localhost:8080/"
        },
        "id": "6Hyp2VF947Zc",
        "outputId": "db43e38b-234a-47f5-c3bb-a89af74c22de"
      },
      "execution_count": 42,
      "outputs": [
        {
          "output_type": "execute_result",
          "data": {
            "text/plain": [
              "DecisionTreeClassifier()"
            ]
          },
          "metadata": {},
          "execution_count": 42
        }
      ]
    },
    {
      "cell_type": "code",
      "source": [
        "from sklearn.metrics import accuracy_score\n",
        "y_pred=model.predict(x)\n",
        "print(\"The predicted Data is :\")\n",
        "print(y_pred)\n",
        "print(\"The actual data is:\")\n",
        "print(np.array(y))\n",
        "print(f\"The model is {accuracy_score(y_pred,y)*100}% accurate\")"
      ],
      "metadata": {
        "colab": {
          "base_uri": "https://localhost:8080/"
        },
        "id": "bsfMBgWe4--z",
        "outputId": "7fddfaf6-9ed1-499c-ecb4-21b751b6f581"
      },
      "execution_count": 43,
      "outputs": [
        {
          "output_type": "stream",
          "name": "stdout",
          "text": [
            "The predicted Data is :\n",
            "[0 0 0 1 1 1 1 1 1]\n",
            "The actual data is:\n",
            "[0 0 0 1 1 1 1 1 1]\n",
            "The model is 100.0% accurate\n"
          ]
        }
      ]
    },
    {
      "cell_type": "code",
      "source": [
        "url=input('Enter URL of Image :')\n",
        "img=imread('data/checked/' + url)\n",
        "plt.imshow(img)\n",
        "plt.show()\n",
        "img_resize=resize(img,(150,150,3))\n",
        "l=[img_resize.flatten()]\n",
        "probability=model.predict_proba(l)\n",
        "for ind,val in enumerate(Categories):\n",
        "    print(f'{val} = {probability[0][ind]*100}%')\n",
        "print(\"The predicted image is : \"+Categories[model.predict(l)[0]])"
      ],
      "metadata": {
        "colab": {
          "base_uri": "https://localhost:8080/",
          "height": 334
        },
        "id": "YnJ7z_Ty5DLp",
        "outputId": "160b7a0e-a82c-45f7-ad4f-56793500a023"
      },
      "execution_count": 44,
      "outputs": [
        {
          "name": "stdout",
          "output_type": "stream",
          "text": [
            "Enter URL of Image :21.jpg\n"
          ]
        },
        {
          "output_type": "display_data",
          "data": {
            "text/plain": [
              "<Figure size 432x288 with 1 Axes>"
            ],
            "image/png": "[encoded data removed]"
          },
          "metadata": {
            "needs_background": "light"
          }
        },
        {
          "output_type": "stream",
          "name": "stdout",
          "text": [
            "checked = 100.0%\n",
            "unchecked = 0.0%\n",
            "The predicted image is : checked\n"
          ]
        }
      ]
    },
    {
      "cell_type": "code",
      "source": [
        "from sklearn.linear_model import LinearRegression,LogisticRegression\n",
        "from sklearn.tree import DecisionTreeRegressor,DecisionTreeClassifier\n",
        "from sklearn.ensemble import RandomForestRegressor,RandomForestClassifier\n",
        "from sklearn.ensemble import GradientBoostingRegressor,GradientBoostingClassifier\n",
        "from sklearn.ensemble import AdaBoostRegressor,AdaBoostClassifier\n",
        "from sklearn.ensemble import ExtraTreesRegressor,ExtraTreesClassifier\n",
        "from sklearn.neighbors import KNeighborsRegressor,KNeighborsClassifier\n",
        "from sklearn.svm import SVR,SVC\n",
        "from sklearn.naive_bayes import GaussianNB\n",
        "\n",
        "from sklearn.metrics import accuracy_score,mean_squared_error"
      ],
      "metadata": {
        "id": "5YxqlpZHB7_g"
      },
      "execution_count": 37,
      "outputs": []
    },
    {
      "cell_type": "code",
      "source": [
        "classifiers=[['Logistic Regression :',LogisticRegression()],\n",
        "       ['Decision Tree Classification :',DecisionTreeClassifier()],\n",
        "       ['Random Forest Classification :',RandomForestClassifier()],\n",
        "       ['Gradient Boosting Classification :', GradientBoostingClassifier()],\n",
        "       ['Ada Boosting Classification :',AdaBoostClassifier()],\n",
        "       ['Extra Tree Classification :', ExtraTreesClassifier()],\n",
        "       ['K-Neighbors Classification :',KNeighborsClassifier()],\n",
        "       ['Gausian Naive Bayes :',GaussianNB()]]\n",
        "cla_pred=[]\n",
        "for name,model in classifiers:\n",
        "    model=model\n",
        "    model.fit(x,y)\n",
        "    predictions = model.predict(x)\n",
        "    cla_pred.append(accuracy_score(y,predictions))\n",
        "    print(name,accuracy_score(y,predictions))"
      ],
      "metadata": {
        "colab": {
          "base_uri": "https://localhost:8080/"
        },
        "id": "BwdC5GjgB-QS",
        "outputId": "7aada490-2993-4415-bf50-ba4c56df979f"
      },
      "execution_count": 39,
      "outputs": [
        {
          "output_type": "stream",
          "name": "stdout",
          "text": [
            "Logistic Regression : 1.0\n",
            "Decision Tree Classification : 1.0\n",
            "Random Forest Classification : 1.0\n",
            "Gradient Boosting Classification : 1.0\n",
            "Ada Boosting Classification : 1.0\n",
            "Extra Tree Classification : 1.0\n",
            "K-Neighbors Classification : 0.6666666666666666\n",
            "Gausian Naive Bayes : 1.0\n"
          ]
        }
      ]
    }
  ]
}